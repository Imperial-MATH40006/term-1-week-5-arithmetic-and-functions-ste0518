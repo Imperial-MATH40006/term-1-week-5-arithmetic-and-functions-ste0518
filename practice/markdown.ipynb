{
 "cells": [
  {
   "cell_type": "markdown",
   "id": "959b85bd",
   "metadata": {},
   "source": [
    "# An introduction To Markdown"
   ]
  },
  {
   "cell_type": "markdown",
   "id": "dd2cb541",
   "metadata": {},
   "source": [
    "## Section 1: Simple calculations\n",
    "\n",
    "This is a text cell, introducing the calculation.\n",
    "```python\n",
    "2 + 2\n",
    "```"
   ]
  },
  {
   "cell_type": "code",
   "execution_count": 1,
   "id": "a1c35139",
   "metadata": {},
   "outputs": [
    {
     "data": {
      "text/plain": [
       "4"
      ]
     },
     "execution_count": 1,
     "metadata": {},
     "output_type": "execute_result"
    }
   ],
   "source": [
    "2 + 2"
   ]
  },
  {
   "cell_type": "markdown",
   "id": "4370befc",
   "metadata": {},
   "source": [
    "This is another text cell, introducing another calculation, $3^7$, which we format as \n",
    "```python\n",
    "3 ** 7\n",
    "```"
   ]
  },
  {
   "cell_type": "code",
   "execution_count": 2,
   "id": "3696156b",
   "metadata": {},
   "outputs": [
    {
     "data": {
      "text/plain": [
       "2187"
      ]
     },
     "execution_count": 2,
     "metadata": {},
     "output_type": "execute_result"
    }
   ],
   "source": [
    "3 ** 7"
   ]
  },
  {
   "cell_type": "markdown",
   "id": "c8002267",
   "metadata": {},
   "source": [
    "## Section 2: Modules and functions\n",
    "\n",
    "Here we import the <code>math</code> module and use it."
   ]
  },
  {
   "cell_type": "code",
   "execution_count": 3,
   "id": "4c8a733c",
   "metadata": {},
   "outputs": [
    {
     "data": {
      "text/plain": [
       "2.23606797749979"
      ]
     },
     "execution_count": 3,
     "metadata": {},
     "output_type": "execute_result"
    }
   ],
   "source": [
    "import math\n",
    "math.sqrt(5)"
   ]
  },
  {
   "cell_type": "code",
   "execution_count": null,
   "id": "faa5700c",
   "metadata": {},
   "outputs": [],
   "source": []
  }
 ],
 "metadata": {
  "kernelspec": {
   "display_name": "Python 3 (ipykernel)",
   "language": "python",
   "name": "python3"
  },
  "language_info": {
   "codemirror_mode": {
    "name": "ipython",
    "version": 3
   },
   "file_extension": ".py",
   "mimetype": "text/x-python",
   "name": "python",
   "nbconvert_exporter": "python",
   "pygments_lexer": "ipython3",
   "version": "3.11.5"
  }
 },
 "nbformat": 4,
 "nbformat_minor": 5
}
